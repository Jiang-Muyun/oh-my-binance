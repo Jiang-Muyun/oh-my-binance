{
 "cells": [
  {
   "cell_type": "code",
   "execution_count": 1,
   "metadata": {},
   "outputs": [],
   "source": [
    "from datetime import datetime, timedelta\n",
    "from utils import load_binance_api_key\n".
    "API_Key, Secret_Key = load_binance_api_key\n",
    "from utils import *\n",
    "\n",
    "from binance_f import RequestClient\n",
    "from binance_f.model.constant import OrderSide, OrderType\n",
    "from binance_f.base.printobject import PrintBasic, PrintMix"
   ]
  },
  {
   "cell_type": "code",
   "execution_count": 2,
   "metadata": {},
   "outputs": [],
   "source": [
    "request_client = RequestClient(api_key=API_Key, secret_key=Secret_Key)"
   ]
  },
  {
   "cell_type": "markdown",
   "metadata": {},
   "source": [
    "### Get open orders"
   ]
  },
  {
   "cell_type": "code",
   "execution_count": 7,
   "metadata": {},
   "outputs": [
    {
     "name": "stdout",
     "output_type": "stream",
     "text": [
      "print_data none data\n"
     ]
    }
   ],
   "source": [
    "_ = request_client.get_open_orders(symbol=\"XRPUSDT\")\n",
    "PrintMix.print_data(_);"
   ]
  },
  {
   "cell_type": "code",
   "execution_count": 4,
   "metadata": {},
   "outputs": [
    {
     "data": {
      "text/plain": [
       "12.8"
      ]
     },
     "execution_count": 4,
     "metadata": {},
     "output_type": "execute_result"
    }
   ],
   "source": [
    "80*0.16"
   ]
  },
  {
   "cell_type": "code",
   "execution_count": 3,
   "metadata": {},
   "outputs": [],
   "source": [
    "X='BNB'; quantity = 0.01\n",
    "# X='BNB'; quantity = 100\n",
    "# X='TRX'; quantity = 80\n",
    "# X='TRX'; quantity = 350000\n",
    "# X='FIL'; quantity = 0.1\n",
    "# X='FIL'; quantity = 150"
   ]
  },
  {
   "cell_type": "code",
   "execution_count": 4,
   "metadata": {},
   "outputs": [
    {
     "name": "stdout",
     "output_type": "stream",
     "text": [
      "\u001b[96mPlace Sell Order \u001b[0m\u001b[96m[0.084s]\u001b[0m\n"
     ]
    }
   ],
   "source": [
    "with Tick('Place Sell Order'):\n",
    "    sell_order = request_client.post_order(\n",
    "        symbol=X+\"USDT\", \n",
    "        side=OrderSide.SELL, \n",
    "        ordertype=OrderType.MARKET,\n",
    "        quantity = quantity,\n",
    "        positionSide=\"BOTH\"\n",
    "    )\n",
    "# PrintBasic.print_obj(sell_order);"
   ]
  },
  {
   "cell_type": "code",
   "execution_count": 5,
   "metadata": {},
   "outputs": [
    {
     "name": "stdout",
     "output_type": "stream",
     "text": [
      "\u001b[96mPlace Buy Order \u001b[0m\u001b[96m[0.231s]\u001b[0m\n"
     ]
    }
   ],
   "source": [
    "with Tick('Place Buy Order'):\n",
    "    buy_order = request_client.post_order(\n",
    "        symbol=X+\"USDT\", \n",
    "        side=OrderSide.BUY, \n",
    "        ordertype=OrderType.MARKET,\n",
    "        quantity = quantity,\n",
    "        positionSide=\"BOTH\"\n",
    "    )\n",
    "# PrintBasic.print_obj(buy_order);"
   ]
  },
  {
   "cell_type": "code",
   "execution_count": null,
   "metadata": {},
   "outputs": [],
   "source": [
    "_ = request_client.get_order(symbol=\"XRPUSDT\",origClientOrderId=new_order.clientOrderId)\n",
    "PrintBasic.print_obj(_);"
   ]
  }
 ],
 "metadata": {
  "kernelspec": {
   "display_name": "Python 3",
   "language": "python",
   "name": "python3"
  },
  "language_info": {
   "codemirror_mode": {
    "name": "ipython",
    "version": 3
   },
   "file_extension": ".py",
   "mimetype": "text/x-python",
   "name": "python",
   "nbconvert_exporter": "python",
   "pygments_lexer": "ipython3",
   "version": "3.8.5"
  }
 },
 "nbformat": 4,
 "nbformat_minor": 4
}
