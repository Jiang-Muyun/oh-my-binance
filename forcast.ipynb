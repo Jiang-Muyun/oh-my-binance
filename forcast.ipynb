{
 "cells": [
  {
   "cell_type": "code",
   "execution_count": null,
   "metadata": {},
   "outputs": [],
   "source": [
    "import os\n",
    "import json\n",
    "import pandas as pd\n",
    "import numpy as np\n",
    "import matplotlib.pyplot as plt\n",
    "from datetime import datetime, timedelta\n",
    "from binance.client import Client\n",
    "from utils import load_binance_api_key
API_Key, Secret_Key = load_binance_api_key\n",
    "from rich.console import Console\n",
    "from IPython.display import display\n",
    "console = Console()\n",
    "\n",
    "import torch\n",
    "import torch.nn as nn\n",
    "import torch.nn.functional as F\n",
    "import torch.optim as optim"
   ]
  },
  {
   "cell_type": "code",
   "execution_count": null,
   "metadata": {},
   "outputs": [],
   "source": [
    "client = Client(API_Key, Secret_Key)\n",
    "\n",
    "X='ETH'\n",
    "Y='USDT'\n",
    "symbol = X + Y\n",
    "\n",
    "ticker = client.get_ticker(symbol=X+Y)\n",
    "lastPrice = float(ticker['lastPrice'])\n",
    "print(datetime.utcfromtimestamp(ticker['closeTime']/1000), lastPrice)"
   ]
  },
  {
   "cell_type": "code",
   "execution_count": null,
   "metadata": {},
   "outputs": [],
   "source": [
    "def raw_klines_to_df(raw_klines):\n",
    "    klines = []\n",
    "    for T1,O,H,L,C,volume,T2,quotaVolume,tradeNumbers,takerBuyBaseVolume,takerBuyQuoteVolume,_ in raw_klines:\n",
    "        timeOpen = int(T1/1000)\n",
    "        strOpen = datetime.fromtimestamp(T1/1000).strftime(\"%Y-%m-%d %H:%M:%S\")\n",
    "        price = (float(O) + float(H) + float(L) + float(C))/4\n",
    "        if (T2-T1+1)/1000 != 60:\n",
    "            print((T2-T1+1)/1000)\n",
    "        klines.append([timeOpen, strOpen, price, float(volume),float(quotaVolume),tradeNumbers,float(takerBuyBaseVolume),float(takerBuyQuoteVolume)])\n",
    "        \n",
    "    df = pd.DataFrame(klines)\n",
    "    df.columns =['timeOpen', 'strOpen', 'price', 'volume','quotaVolume','tradeNumbers','takerBuyBaseVolume','takerBuyQuoteVolume']\n",
    "    return df\n",
    "\n",
    "def get_historical_klines_1MINUTE(symbol, date):\n",
    "    start = int(datetime.strptime(date + \" 00:00:00\", \"%Y-%m-%d %H:%M:%S\").timestamp()*1000)\n",
    "    end   = int(datetime.strptime(date + \" 23:59:00\", \"%Y-%m-%d %H:%M:%S\").timestamp()*1000)\n",
    "    raw_klines = client.get_historical_klines(symbol, Client.KLINE_INTERVAL_1MINUTE, start, end)                     \n",
    "    return raw_klines\n",
    "\n",
    "def get_recent_klines_1MINUTE(symbol, limit=1):\n",
    "    raw_klines = client.get_klines(symbol, interval=Client.KLINE_INTERVAL_1MINUTE, limit=limit)\n",
    "    return raw_klines\n",
    "\n",
    "def get_klines_from_cache(symbol, date):\n",
    "    savePath='klines/{symbol}/{date}.csv'.format(symbol=symbol, date=date)\n",
    "    if os.path.exists(savePath):\n",
    "        return pd.read_csv(savePath)\n",
    "    else:\n",
    "        df = raw_klines_to_df(get_historical_klines_1MINUTE(symbol, date))\n",
    "        df.to_csv(savePath, index=False)\n",
    "        return df"
   ]
  },
  {
   "cell_type": "code",
   "execution_count": null,
   "metadata": {},
   "outputs": [],
   "source": [
    "price = []\n",
    "for i in range(1, 28 + 1):\n",
    "    date = '2021-02-%02d'%(i)\n",
    "    df = get_klines_from_cache(symbol, date)\n",
    "    price.append(np.array(df['price']))\n",
    "train_price = np.concatenate(price).astype(np.float32)"
   ]
  },
  {
   "cell_type": "code",
   "execution_count": null,
   "metadata": {},
   "outputs": [],
   "source": [
    "price = []\n",
    "for i in range(1, 31 + 1):\n",
    "    date = '2021-03-%02d'%(i)\n",
    "    df = get_klines_from_cache(symbol, date)\n",
    "    price.append(np.array(df['price']))\n",
    "valid_price = np.concatenate(price).astype(np.float32)"
   ]
  },
  {
   "cell_type": "code",
   "execution_count": null,
   "metadata": {},
   "outputs": [],
   "source": [
    "mean = train_price.mean()\n",
    "std = train_price.std()\n",
    "train_price = (train_price - mean)/std\n",
    "valid_price = (valid_price - mean)/std"
   ]
  },
  {
   "cell_type": "code",
   "execution_count": null,
   "metadata": {},
   "outputs": [],
   "source": [
    "train_price.shape, valid_price.shape"
   ]
  },
  {
   "cell_type": "code",
   "execution_count": null,
   "metadata": {},
   "outputs": [],
   "source": [
    "def slide_winows(price, window_size = 15):\n",
    "    X, Y = [], []\n",
    "    for i in range(window_size + 5, len(price) -5):\n",
    "        X.append(price[i-window_size:i])\n",
    "        Y.append(price[i:i+1])\n",
    "    X, Y = np.array(X), np.array(Y)\n",
    "    return X, Y\n",
    "\n",
    "train_X, train_Y = slide_winows(train_price)\n",
    "valid_X, valid_Y = slide_winows(valid_price)"
   ]
  },
  {
   "cell_type": "code",
   "execution_count": null,
   "metadata": {},
   "outputs": [],
   "source": [
    "fig = plt.figure(figsize=(12,3), dpi=100, facecolor='w', edgecolor='k')\n",
    "ax=plt.subplot(1,2,1);plt.plot(train_price)\n",
    "ax=plt.subplot(1,2,2);plt.plot(valid_price)\n",
    "plt.tight_layout()\n",
    "plt.show()"
   ]
  },
  {
   "cell_type": "code",
   "execution_count": null,
   "metadata": {},
   "outputs": [],
   "source": [
    "X, Y = torch.from_numpy(train_X).cuda(), torch.from_numpy(train_Y).cuda()\n",
    "Xt, Yt = torch.from_numpy(valid_X).cuda(), torch.from_numpy(valid_Y).cuda()"
   ]
  },
  {
   "cell_type": "code",
   "execution_count": null,
   "metadata": {},
   "outputs": [],
   "source": [
    "class Net(nn.Module):\n",
    "    def __init__(self):\n",
    "        super(Net, self).__init__()\n",
    "        self.fc1 = nn.Linear(15, 4, bias=False)\n",
    "        self.fc2 = nn.Linear(4, 1, bias=False)\n",
    "\n",
    "    def forward(self, x):\n",
    "        x = self.fc1(x)\n",
    "        x = F.relu(x)\n",
    "        x = self.fc2(x)\n",
    "        return x\n",
    "\n",
    "model = Net().cuda()\n",
    "loss_function = nn.MSELoss()\n",
    "optimizer = torch.optim.Adam(model.parameters(), lr=0.001)"
   ]
  },
  {
   "cell_type": "code",
   "execution_count": null,
   "metadata": {},
   "outputs": [],
   "source": [
    "train_loss, valid_loss = [], []\n",
    "for epoch in range(400):\n",
    "    optimizer.zero_grad()\n",
    "    pred = model(X)\n",
    "    loss = loss_function(pred, Y)\n",
    "    loss.backward()\n",
    "    optimizer.step()\n",
    "    train_loss.append(loss.item())\n",
    "    \n",
    "    with torch.no_grad():\n",
    "        pred = model(Xt)\n",
    "        loss = loss_function(pred, Yt)\n",
    "        valid_loss.append(loss.item())\n",
    "\n",
    "train_loss, valid_loss = np.array(train_loss), np.array(valid_loss)"
   ]
  },
  {
   "cell_type": "code",
   "execution_count": null,
   "metadata": {},
   "outputs": [],
   "source": [
    "fig = plt.figure(figsize=(8,3), dpi=100, facecolor='w', edgecolor='k')\n",
    "plt.plot(train_loss, label='train_loss')\n",
    "plt.plot(valid_loss, label='valid_loss')\n",
    "plt.tight_layout()\n",
    "plt.legend()\n",
    "plt.show()"
   ]
  },
  {
   "cell_type": "code",
   "execution_count": null,
   "metadata": {},
   "outputs": [],
   "source": [
    "with torch.no_grad():\n",
    "    valid_pred = model(Xt).cpu().numpy()"
   ]
  },
  {
   "cell_type": "code",
   "execution_count": null,
   "metadata": {},
   "outputs": [],
   "source": [
    "# rate = []\n",
    "correct, wrong = 0, 0\n",
    "for sample, pred, label in zip(valid_X, valid_pred[:,0], valid_Y[:,0]):\n",
    "    wave = np.abs((pred - label) / label)\n",
    "    if wave > 0.05:\n",
    "        continue\n",
    "    now = sample[-1]\n",
    "    if (label - now)*(pred - now) > 0:\n",
    "        correct += 1\n",
    "    else:\n",
    "        wrong += 1\n",
    "correct, wrong"
   ]
  },
  {
   "cell_type": "code",
   "execution_count": null,
   "metadata": {},
   "outputs": [],
   "source": [
    "fig = plt.figure(figsize=(8,3), dpi=100, facecolor='w', edgecolor='k')\n",
    "plt.plot(rate, label='rate')\n",
    "plt.tight_layout()\n",
    "plt.legend()\n",
    "plt.show()"
   ]
  },
  {
   "cell_type": "code",
   "execution_count": null,
   "metadata": {},
   "outputs": [],
   "source": [
    "rate.mean()"
   ]
  },
  {
   "cell_type": "code",
   "execution_count": null,
   "metadata": {},
   "outputs": [],
   "source": [
    "fig = plt.figure(figsize=(8,3), dpi=100, facecolor='w', edgecolor='k')\n",
    "plt.plot(valid_pred, label='valid_pred')\n",
    "plt.plot(valid_Y, label='valid_Y')\n",
    "plt.tight_layout()\n",
    "plt.legend()\n",
    "plt.show()"
   ]
  },
  {
   "cell_type": "code",
   "execution_count": null,
   "metadata": {},
   "outputs": [],
   "source": [
    "sample = torch.from_numpy(train_X[0])\n",
    "target = train_Y[0]"
   ]
  },
  {
   "cell_type": "code",
   "execution_count": null,
   "metadata": {},
   "outputs": [],
   "source": [
    "earn = 0\n",
    "earnCurve = []\n",
    "holdingOrder = False\n",
    "\n",
    "for t_buy in range(30, len(price)):\n",
    "    MA15 = price[t_buy-30:t_buy].mean()\n",
    "    if price[t_buy] > MA15:\n",
    "        buy_price = price[t_buy]\n",
    "\n",
    "        sell_price = -1\n",
    "        for i in range(t_buy+1, len(price)):\n",
    "            curr_price = price[i]\n",
    "            rate = (curr_price - buy_price) / buy_price\n",
    "            if rate > 0.02 or rate < -0.05:\n",
    "                sell_price = curr_price\n",
    "                break\n",
    "        if sell_price == -1:\n",
    "            sell_price = curr_price\n",
    "        earnOnce = sell_price - buy_price\n",
    "    else:\n",
    "        earnOnce = 0\n",
    "    \n",
    "    earn += earnOnce\n",
    "    earnCurve.append(earn)\n",
    "earnCurve = np.array(earnCurve)"
   ]
  },
  {
   "cell_type": "code",
   "execution_count": null,
   "metadata": {},
   "outputs": [],
   "source": [
    "fig = plt.figure(figsize=(12,3), dpi=100, facecolor='w', edgecolor='k')\n",
    "ax=plt.subplot(1,2,1);plt.plot(price)\n",
    "ax=plt.subplot(1,2,2);plt.plot(earnCurve)\n",
    "plt.tight_layout()\n",
    "plt.show()"
   ]
  },
  {
   "cell_type": "code",
   "execution_count": null,
   "metadata": {},
   "outputs": [],
   "source": [
    "    1499040000000,      # Open time\n",
    "    \"0.01634790\",       # Open\n",
    "    \"0.80000000\",       # High\n",
    "    \"0.01575800\",       # Low\n",
    "    \"0.01577100\",       # Close\n",
    "    \"148976.11427815\",  # Volume\n",
    "    1499644799999,      # Close time\n",
    "    \"2434.19055334\",    # Quote asset volume\n",
    "    308,                # Number of trades\n",
    "    \"1756.87402397\",    # Taker buy base asset volume\n",
    "    \"28.46694368\",      # Taker buy quote asset volume\n",
    "    \"17928899.62484339\" # Ignore"
   ]
  }
 ],
 "metadata": {
  "kernelspec": {
   "display_name": "Python 3",
   "language": "python",
   "name": "python3"
  },
  "language_info": {
   "codemirror_mode": {
    "name": "ipython",
    "version": 3
   },
   "file_extension": ".py",
   "mimetype": "text/x-python",
   "name": "python",
   "nbconvert_exporter": "python",
   "pygments_lexer": "ipython3",
   "version": "3.8.5"
  }
 },
 "nbformat": 4,
 "nbformat_minor": 4
}
